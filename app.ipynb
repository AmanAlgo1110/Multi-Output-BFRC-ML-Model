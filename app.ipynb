{
 "cells": [
  {
   "cell_type": "code",
   "execution_count": 749,
   "id": "ebff7f19-8dca-48a9-b0e4-d626ee1844b6",
   "metadata": {},
   "outputs": [],
   "source": [
    "import joblib\n",
    "import streamlit as slt\n",
    "import numpy as np\n",
    "import pandas as pd"
   ]
  },
  {
   "cell_type": "code",
   "execution_count": 750,
   "id": "d94cf75c-b023-43d6-9c0f-3b18fe4a581b",
   "metadata": {},
   "outputs": [],
   "source": [
    "loaded_model=joblib.load(\"model_multioutout.pkl\")"
   ]
  },
  {
   "cell_type": "code",
   "execution_count": 752,
   "id": "4c3fb3d5-499f-4440-a0da-7f72facafe25",
   "metadata": {},
   "outputs": [
    {
     "name": "stderr",
     "output_type": "stream",
     "text": [
      "2025-10-05 18:07:24.090 Thread 'MainThread': missing ScriptRunContext! This warning can be ignored when running in bare mode.\n",
      "2025-10-05 18:07:24.090 Thread 'MainThread': missing ScriptRunContext! This warning can be ignored when running in bare mode.\n",
      "2025-10-05 18:07:24.091 Thread 'MainThread': missing ScriptRunContext! This warning can be ignored when running in bare mode.\n",
      "2025-10-05 18:07:24.091 Thread 'MainThread': missing ScriptRunContext! This warning can be ignored when running in bare mode.\n",
      "2025-10-05 18:07:24.091 Thread 'MainThread': missing ScriptRunContext! This warning can be ignored when running in bare mode.\n",
      "2025-10-05 18:07:24.092 Thread 'MainThread': missing ScriptRunContext! This warning can be ignored when running in bare mode.\n",
      "2025-10-05 18:07:24.092 Thread 'MainThread': missing ScriptRunContext! This warning can be ignored when running in bare mode.\n",
      "2025-10-05 18:07:24.092 Thread 'MainThread': missing ScriptRunContext! This warning can be ignored when running in bare mode.\n",
      "2025-10-05 18:07:24.093 Session state does not function when running a script without `streamlit run`\n",
      "2025-10-05 18:07:24.093 Thread 'MainThread': missing ScriptRunContext! This warning can be ignored when running in bare mode.\n",
      "2025-10-05 18:07:24.094 Thread 'MainThread': missing ScriptRunContext! This warning can be ignored when running in bare mode.\n",
      "2025-10-05 18:07:24.094 Thread 'MainThread': missing ScriptRunContext! This warning can be ignored when running in bare mode.\n",
      "2025-10-05 18:07:24.094 Thread 'MainThread': missing ScriptRunContext! This warning can be ignored when running in bare mode.\n",
      "2025-10-05 18:07:24.095 Thread 'MainThread': missing ScriptRunContext! This warning can be ignored when running in bare mode.\n",
      "2025-10-05 18:07:24.095 Thread 'MainThread': missing ScriptRunContext! This warning can be ignored when running in bare mode.\n",
      "2025-10-05 18:07:24.095 Thread 'MainThread': missing ScriptRunContext! This warning can be ignored when running in bare mode.\n",
      "2025-10-05 18:07:24.095 Thread 'MainThread': missing ScriptRunContext! This warning can be ignored when running in bare mode.\n",
      "2025-10-05 18:07:24.096 Thread 'MainThread': missing ScriptRunContext! This warning can be ignored when running in bare mode.\n",
      "2025-10-05 18:07:24.096 Thread 'MainThread': missing ScriptRunContext! This warning can be ignored when running in bare mode.\n",
      "2025-10-05 18:07:24.096 Thread 'MainThread': missing ScriptRunContext! This warning can be ignored when running in bare mode.\n",
      "2025-10-05 18:07:24.097 Thread 'MainThread': missing ScriptRunContext! This warning can be ignored when running in bare mode.\n",
      "2025-10-05 18:07:24.097 Thread 'MainThread': missing ScriptRunContext! This warning can be ignored when running in bare mode.\n",
      "2025-10-05 18:07:24.097 Thread 'MainThread': missing ScriptRunContext! This warning can be ignored when running in bare mode.\n"
     ]
    }
   ],
   "source": [
    "slt.title(\"BFRC\")\n",
    "slt.write(\"Enter input values below:\")\n",
    "feature1=slt.number_input(\"Feature-1\",value=0.0)\n",
    "feature2=slt.number_input(\"Feature-2\",value=0.0)\n",
    "feature3=slt.number_input(\"Feature-3\",value=0.0)\n",
    "feature4=slt.number_input(\"Feature-4\",value=0.0)\n",
    "feature5=slt.number_input(\"Feature-5\",value=0.0)\n",
    "feature6=slt.number_input(\"Feature-6\",value=0.0)\n",
    "feature7=slt.number_input(\"Feature-7\",value=0.0)\n",
    "feature8=slt.number_input(\"Feature-8\",value=0.0)"
   ]
  },
  {
   "cell_type": "code",
   "execution_count": 754,
   "id": "1c15740c-a2fd-40db-89bd-51f1d3a17807",
   "metadata": {},
   "outputs": [
    {
     "ename": "NameError",
     "evalue": "name 'feature2' is not defined",
     "output_type": "error",
     "traceback": [
      "\u001b[1;31m---------------------------------------------------------------------------\u001b[0m",
      "\u001b[1;31mNameError\u001b[0m                                 Traceback (most recent call last)",
      "Cell \u001b[1;32mIn[754], line 3\u001b[0m\n\u001b[0;32m      1\u001b[0m x_input\u001b[38;5;241m=\u001b[39mpd\u001b[38;5;241m.\u001b[39mDataFrame({\n\u001b[0;32m      2\u001b[0m     \u001b[38;5;124m'\u001b[39m\u001b[38;5;124mFeature-1\u001b[39m\u001b[38;5;124m'\u001b[39m:[feature1],\n\u001b[1;32m----> 3\u001b[0m     \u001b[38;5;124m'\u001b[39m\u001b[38;5;124mFeature-2\u001b[39m\u001b[38;5;124m'\u001b[39m:[feature2],\n\u001b[0;32m      4\u001b[0m     \u001b[38;5;124m'\u001b[39m\u001b[38;5;124mFeature-3\u001b[39m\u001b[38;5;124m'\u001b[39m:[feature3],\n\u001b[0;32m      5\u001b[0m     \u001b[38;5;124m'\u001b[39m\u001b[38;5;124mFeature-4\u001b[39m\u001b[38;5;124m'\u001b[39m:[feature4],\n\u001b[0;32m      6\u001b[0m     \u001b[38;5;124m'\u001b[39m\u001b[38;5;124mFeature-5\u001b[39m\u001b[38;5;124m'\u001b[39m:[feature5],\n\u001b[0;32m      7\u001b[0m     \u001b[38;5;124m'\u001b[39m\u001b[38;5;124mFeature-6\u001b[39m\u001b[38;5;124m'\u001b[39m:[feature6],\n\u001b[0;32m      8\u001b[0m     \u001b[38;5;124m'\u001b[39m\u001b[38;5;124mFeature-7\u001b[39m\u001b[38;5;124m'\u001b[39m:[feature7],\n\u001b[0;32m      9\u001b[0m     \u001b[38;5;124m'\u001b[39m\u001b[38;5;124mFeature-8\u001b[39m\u001b[38;5;124m'\u001b[39m:[feature8],\n\u001b[0;32m     10\u001b[0m })\n",
      "\u001b[1;31mNameError\u001b[0m: name 'feature2' is not defined"
     ]
    }
   ],
   "source": [
    "x_input=pd.DataFrame({\n",
    "    'Feature-1':[feature1],\n",
    "    'Feature-2':[feature2],\n",
    "    'Feature-3':[feature3],\n",
    "    'Feature-4':[feature4],\n",
    "    'Feature-5':[feature5],\n",
    "    'Feature-6':[feature6],\n",
    "    'Feature-7':[feature7],\n",
    "    'Feature-8':[feature8],\n",
    "})"
   ]
  },
  {
   "cell_type": "code",
   "execution_count": 758,
   "id": "0d9a32c7-e803-4620-8c81-6a5acac40c8d",
   "metadata": {},
   "outputs": [],
   "source": [
    "x_input=np.log1p(x_input)"
   ]
  },
  {
   "cell_type": "code",
   "execution_count": null,
   "id": "9a227250-a292-45e1-8ca4-b2aa5e92ff74",
   "metadata": {},
   "outputs": [],
   "source": []
  }
 ],
 "metadata": {
  "kernelspec": {
   "display_name": "Python [conda env:base] *",
   "language": "python",
   "name": "conda-base-py"
  },
  "language_info": {
   "codemirror_mode": {
    "name": "ipython",
    "version": 3
   },
   "file_extension": ".py",
   "mimetype": "text/x-python",
   "name": "python",
   "nbconvert_exporter": "python",
   "pygments_lexer": "ipython3",
   "version": "3.13.5"
  }
 },
 "nbformat": 4,
 "nbformat_minor": 5
}
